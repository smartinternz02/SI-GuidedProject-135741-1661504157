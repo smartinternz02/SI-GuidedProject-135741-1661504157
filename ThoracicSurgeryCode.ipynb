{
 "cells": [
  {
   "cell_type": "markdown",
   "metadata": {
    "id": "bOOySntn5bFv"
   },
   "source": [
    "**Import Statements**"
   ]
  },
  {
   "cell_type": "code",
   "execution_count": 40,
   "metadata": {
    "id": "_hau39ot5fJh"
   },
   "outputs": [],
   "source": [
    "import pandas as pd\n",
    "import numpy as np\n",
    "from scipy.stats import mode\n",
    "import matplotlib.pyplot as plt\n",
    "import seaborn as sns\n",
    "from sklearn.model_selection import train_test_split\n",
    "from sklearn.preprocessing import StandardScaler\n",
    "from sklearn.ensemble import RandomForestClassifier\n",
    "from sklearn.tree import DecisionTreeClassifier\n",
    "from sklearn import tree\n",
    "from sklearn.svm import SVC\n",
    "from sklearn import svm\n",
    "from sklearn.metrics import accuracy_score, confusion_matrix, classification_report\n",
    "import pickle"
   ]
  },
  {
   "cell_type": "markdown",
   "metadata": {
    "id": "kJuTiq1R53a8"
   },
   "source": [
    "**Read CSV file**"
   ]
  },
  {
   "cell_type": "code",
   "execution_count": 41,
   "metadata": {
    "colab": {
     "base_uri": "https://localhost:8080/",
     "height": 206
    },
    "id": "rWBU32mq5_mZ",
    "outputId": "5648977f-9952-4ece-9870-f8e9410aef01"
   },
   "outputs": [
    {
     "data": {
      "text/html": [
       "<div>\n",
       "<style scoped>\n",
       "    .dataframe tbody tr th:only-of-type {\n",
       "        vertical-align: middle;\n",
       "    }\n",
       "\n",
       "    .dataframe tbody tr th {\n",
       "        vertical-align: top;\n",
       "    }\n",
       "\n",
       "    .dataframe thead th {\n",
       "        text-align: right;\n",
       "    }\n",
       "</style>\n",
       "<table border=\"1\" class=\"dataframe\">\n",
       "  <thead>\n",
       "    <tr style=\"text-align: right;\">\n",
       "      <th></th>\n",
       "      <th>Diagnosis</th>\n",
       "      <th>FVC</th>\n",
       "      <th>FEV1</th>\n",
       "      <th>Performance</th>\n",
       "      <th>Pain</th>\n",
       "      <th>Haemoptysis</th>\n",
       "      <th>Dyspnoea</th>\n",
       "      <th>Cough</th>\n",
       "      <th>Weakness</th>\n",
       "      <th>Tumor_Size</th>\n",
       "      <th>Diabetes_Mellitus</th>\n",
       "      <th>MI_6mo</th>\n",
       "      <th>PAD</th>\n",
       "      <th>Smoking</th>\n",
       "      <th>Asthma</th>\n",
       "      <th>Age</th>\n",
       "      <th>Death_1yr</th>\n",
       "    </tr>\n",
       "  </thead>\n",
       "  <tbody>\n",
       "    <tr>\n",
       "      <th>0</th>\n",
       "      <td>2</td>\n",
       "      <td>2.88</td>\n",
       "      <td>2.16</td>\n",
       "      <td>1</td>\n",
       "      <td>0</td>\n",
       "      <td>0</td>\n",
       "      <td>0</td>\n",
       "      <td>1</td>\n",
       "      <td>1</td>\n",
       "      <td>4</td>\n",
       "      <td>0</td>\n",
       "      <td>0</td>\n",
       "      <td>0</td>\n",
       "      <td>1</td>\n",
       "      <td>0</td>\n",
       "      <td>60</td>\n",
       "      <td>0</td>\n",
       "    </tr>\n",
       "    <tr>\n",
       "      <th>1</th>\n",
       "      <td>3</td>\n",
       "      <td>3.40</td>\n",
       "      <td>1.88</td>\n",
       "      <td>0</td>\n",
       "      <td>0</td>\n",
       "      <td>0</td>\n",
       "      <td>0</td>\n",
       "      <td>0</td>\n",
       "      <td>0</td>\n",
       "      <td>2</td>\n",
       "      <td>0</td>\n",
       "      <td>0</td>\n",
       "      <td>0</td>\n",
       "      <td>1</td>\n",
       "      <td>0</td>\n",
       "      <td>51</td>\n",
       "      <td>0</td>\n",
       "    </tr>\n",
       "    <tr>\n",
       "      <th>2</th>\n",
       "      <td>3</td>\n",
       "      <td>2.76</td>\n",
       "      <td>2.08</td>\n",
       "      <td>1</td>\n",
       "      <td>0</td>\n",
       "      <td>0</td>\n",
       "      <td>0</td>\n",
       "      <td>1</td>\n",
       "      <td>0</td>\n",
       "      <td>1</td>\n",
       "      <td>0</td>\n",
       "      <td>0</td>\n",
       "      <td>0</td>\n",
       "      <td>1</td>\n",
       "      <td>0</td>\n",
       "      <td>59</td>\n",
       "      <td>0</td>\n",
       "    </tr>\n",
       "    <tr>\n",
       "      <th>3</th>\n",
       "      <td>3</td>\n",
       "      <td>3.68</td>\n",
       "      <td>3.04</td>\n",
       "      <td>0</td>\n",
       "      <td>0</td>\n",
       "      <td>0</td>\n",
       "      <td>0</td>\n",
       "      <td>0</td>\n",
       "      <td>0</td>\n",
       "      <td>1</td>\n",
       "      <td>0</td>\n",
       "      <td>0</td>\n",
       "      <td>0</td>\n",
       "      <td>0</td>\n",
       "      <td>0</td>\n",
       "      <td>54</td>\n",
       "      <td>0</td>\n",
       "    </tr>\n",
       "    <tr>\n",
       "      <th>4</th>\n",
       "      <td>3</td>\n",
       "      <td>2.44</td>\n",
       "      <td>0.96</td>\n",
       "      <td>2</td>\n",
       "      <td>0</td>\n",
       "      <td>1</td>\n",
       "      <td>0</td>\n",
       "      <td>1</td>\n",
       "      <td>1</td>\n",
       "      <td>1</td>\n",
       "      <td>0</td>\n",
       "      <td>0</td>\n",
       "      <td>0</td>\n",
       "      <td>1</td>\n",
       "      <td>0</td>\n",
       "      <td>73</td>\n",
       "      <td>1</td>\n",
       "    </tr>\n",
       "  </tbody>\n",
       "</table>\n",
       "</div>"
      ],
      "text/plain": [
       "   Diagnosis   FVC  FEV1  Performance  Pain  Haemoptysis  Dyspnoea  Cough  \\\n",
       "0          2  2.88  2.16            1     0            0         0      1   \n",
       "1          3  3.40  1.88            0     0            0         0      0   \n",
       "2          3  2.76  2.08            1     0            0         0      1   \n",
       "3          3  3.68  3.04            0     0            0         0      0   \n",
       "4          3  2.44  0.96            2     0            1         0      1   \n",
       "\n",
       "   Weakness  Tumor_Size  Diabetes_Mellitus  MI_6mo  PAD  Smoking  Asthma  Age  \\\n",
       "0         1           4                  0       0    0        1       0   60   \n",
       "1         0           2                  0       0    0        1       0   51   \n",
       "2         0           1                  0       0    0        1       0   59   \n",
       "3         0           1                  0       0    0        0       0   54   \n",
       "4         1           1                  0       0    0        1       0   73   \n",
       "\n",
       "   Death_1yr  \n",
       "0          0  \n",
       "1          0  \n",
       "2          0  \n",
       "3          0  \n",
       "4          1  "
      ]
     },
     "execution_count": 41,
     "metadata": {},
     "output_type": "execute_result"
    }
   ],
   "source": [
    "df = pd.read_csv('ThoracicSurgery.csv')\n",
    "df.head()"
   ]
  },
  {
   "cell_type": "markdown",
   "metadata": {
    "id": "XvsahQr56wMW"
   },
   "source": [
    "**Exploratory Data Analysis**"
   ]
  },
  {
   "cell_type": "code",
   "execution_count": 42,
   "metadata": {
    "colab": {
     "base_uri": "https://localhost:8080/"
    },
    "id": "651rYw3k60Of",
    "outputId": "ebbcd3cc-3d10-4d51-a0c4-d1249c4cd52d"
   },
   "outputs": [
    {
     "data": {
      "text/plain": [
       "(454, 17)"
      ]
     },
     "execution_count": 42,
     "metadata": {},
     "output_type": "execute_result"
    }
   ],
   "source": [
    "df.shape"
   ]
  },
  {
   "cell_type": "code",
   "execution_count": 43,
   "metadata": {
    "colab": {
     "base_uri": "https://localhost:8080/"
    },
    "id": "TH0fAlJy65__",
    "outputId": "7b36f8bd-948e-408d-9138-a3675cdcbdc2"
   },
   "outputs": [
    {
     "data": {
      "text/plain": [
       "Diagnosis            0\n",
       "FVC                  0\n",
       "FEV1                 0\n",
       "Performance          0\n",
       "Pain                 0\n",
       "Haemoptysis          0\n",
       "Dyspnoea             0\n",
       "Cough                0\n",
       "Weakness             0\n",
       "Tumor_Size           0\n",
       "Diabetes_Mellitus    0\n",
       "MI_6mo               0\n",
       "PAD                  0\n",
       "Smoking              0\n",
       "Asthma               0\n",
       "Age                  0\n",
       "Death_1yr            0\n",
       "dtype: int64"
      ]
     },
     "execution_count": 43,
     "metadata": {},
     "output_type": "execute_result"
    }
   ],
   "source": [
    "df.isnull().sum()"
   ]
  },
  {
   "cell_type": "code",
   "execution_count": 44,
   "metadata": {
    "colab": {
     "base_uri": "https://localhost:8080/",
     "height": 364
    },
    "id": "OtXFm8HK6-l9",
    "outputId": "52d00acc-9aba-4cef-8a53-d9df96dccdf3"
   },
   "outputs": [
    {
     "data": {
      "text/html": [
       "<div>\n",
       "<style scoped>\n",
       "    .dataframe tbody tr th:only-of-type {\n",
       "        vertical-align: middle;\n",
       "    }\n",
       "\n",
       "    .dataframe tbody tr th {\n",
       "        vertical-align: top;\n",
       "    }\n",
       "\n",
       "    .dataframe thead th {\n",
       "        text-align: right;\n",
       "    }\n",
       "</style>\n",
       "<table border=\"1\" class=\"dataframe\">\n",
       "  <thead>\n",
       "    <tr style=\"text-align: right;\">\n",
       "      <th></th>\n",
       "      <th>Diagnosis</th>\n",
       "      <th>FVC</th>\n",
       "      <th>FEV1</th>\n",
       "      <th>Performance</th>\n",
       "      <th>Pain</th>\n",
       "      <th>Haemoptysis</th>\n",
       "      <th>Dyspnoea</th>\n",
       "      <th>Cough</th>\n",
       "      <th>Weakness</th>\n",
       "      <th>Tumor_Size</th>\n",
       "      <th>Diabetes_Mellitus</th>\n",
       "      <th>MI_6mo</th>\n",
       "      <th>PAD</th>\n",
       "      <th>Smoking</th>\n",
       "      <th>Asthma</th>\n",
       "      <th>Age</th>\n",
       "      <th>Death_1yr</th>\n",
       "    </tr>\n",
       "  </thead>\n",
       "  <tbody>\n",
       "    <tr>\n",
       "      <th>count</th>\n",
       "      <td>454.000000</td>\n",
       "      <td>454.000000</td>\n",
       "      <td>454.00000</td>\n",
       "      <td>454.000000</td>\n",
       "      <td>454.000000</td>\n",
       "      <td>454.000000</td>\n",
       "      <td>454.000000</td>\n",
       "      <td>454.000000</td>\n",
       "      <td>454.000000</td>\n",
       "      <td>454.000000</td>\n",
       "      <td>454.000000</td>\n",
       "      <td>454.000000</td>\n",
       "      <td>454.000000</td>\n",
       "      <td>454.000000</td>\n",
       "      <td>454.000000</td>\n",
       "      <td>454.000000</td>\n",
       "      <td>454.000000</td>\n",
       "    </tr>\n",
       "    <tr>\n",
       "      <th>mean</th>\n",
       "      <td>3.092511</td>\n",
       "      <td>3.287952</td>\n",
       "      <td>2.51685</td>\n",
       "      <td>0.795154</td>\n",
       "      <td>0.059471</td>\n",
       "      <td>0.136564</td>\n",
       "      <td>0.055066</td>\n",
       "      <td>0.696035</td>\n",
       "      <td>0.171806</td>\n",
       "      <td>1.733480</td>\n",
       "      <td>0.074890</td>\n",
       "      <td>0.004405</td>\n",
       "      <td>0.017621</td>\n",
       "      <td>0.828194</td>\n",
       "      <td>0.004405</td>\n",
       "      <td>62.777533</td>\n",
       "      <td>0.151982</td>\n",
       "    </tr>\n",
       "    <tr>\n",
       "      <th>std</th>\n",
       "      <td>0.715817</td>\n",
       "      <td>0.872347</td>\n",
       "      <td>0.77189</td>\n",
       "      <td>0.531459</td>\n",
       "      <td>0.236766</td>\n",
       "      <td>0.343765</td>\n",
       "      <td>0.228361</td>\n",
       "      <td>0.460475</td>\n",
       "      <td>0.377628</td>\n",
       "      <td>0.707499</td>\n",
       "      <td>0.263504</td>\n",
       "      <td>0.066299</td>\n",
       "      <td>0.131715</td>\n",
       "      <td>0.377628</td>\n",
       "      <td>0.066299</td>\n",
       "      <td>8.449634</td>\n",
       "      <td>0.359400</td>\n",
       "    </tr>\n",
       "    <tr>\n",
       "      <th>min</th>\n",
       "      <td>1.000000</td>\n",
       "      <td>1.440000</td>\n",
       "      <td>0.96000</td>\n",
       "      <td>0.000000</td>\n",
       "      <td>0.000000</td>\n",
       "      <td>0.000000</td>\n",
       "      <td>0.000000</td>\n",
       "      <td>0.000000</td>\n",
       "      <td>0.000000</td>\n",
       "      <td>1.000000</td>\n",
       "      <td>0.000000</td>\n",
       "      <td>0.000000</td>\n",
       "      <td>0.000000</td>\n",
       "      <td>0.000000</td>\n",
       "      <td>0.000000</td>\n",
       "      <td>37.000000</td>\n",
       "      <td>0.000000</td>\n",
       "    </tr>\n",
       "    <tr>\n",
       "      <th>25%</th>\n",
       "      <td>3.000000</td>\n",
       "      <td>2.600000</td>\n",
       "      <td>1.96000</td>\n",
       "      <td>0.000000</td>\n",
       "      <td>0.000000</td>\n",
       "      <td>0.000000</td>\n",
       "      <td>0.000000</td>\n",
       "      <td>0.000000</td>\n",
       "      <td>0.000000</td>\n",
       "      <td>1.000000</td>\n",
       "      <td>0.000000</td>\n",
       "      <td>0.000000</td>\n",
       "      <td>0.000000</td>\n",
       "      <td>1.000000</td>\n",
       "      <td>0.000000</td>\n",
       "      <td>57.000000</td>\n",
       "      <td>0.000000</td>\n",
       "    </tr>\n",
       "    <tr>\n",
       "      <th>50%</th>\n",
       "      <td>3.000000</td>\n",
       "      <td>3.160000</td>\n",
       "      <td>2.36000</td>\n",
       "      <td>1.000000</td>\n",
       "      <td>0.000000</td>\n",
       "      <td>0.000000</td>\n",
       "      <td>0.000000</td>\n",
       "      <td>1.000000</td>\n",
       "      <td>0.000000</td>\n",
       "      <td>2.000000</td>\n",
       "      <td>0.000000</td>\n",
       "      <td>0.000000</td>\n",
       "      <td>0.000000</td>\n",
       "      <td>1.000000</td>\n",
       "      <td>0.000000</td>\n",
       "      <td>62.000000</td>\n",
       "      <td>0.000000</td>\n",
       "    </tr>\n",
       "    <tr>\n",
       "      <th>75%</th>\n",
       "      <td>3.000000</td>\n",
       "      <td>3.840000</td>\n",
       "      <td>2.97750</td>\n",
       "      <td>1.000000</td>\n",
       "      <td>0.000000</td>\n",
       "      <td>0.000000</td>\n",
       "      <td>0.000000</td>\n",
       "      <td>1.000000</td>\n",
       "      <td>0.000000</td>\n",
       "      <td>2.000000</td>\n",
       "      <td>0.000000</td>\n",
       "      <td>0.000000</td>\n",
       "      <td>0.000000</td>\n",
       "      <td>1.000000</td>\n",
       "      <td>0.000000</td>\n",
       "      <td>69.000000</td>\n",
       "      <td>0.000000</td>\n",
       "    </tr>\n",
       "    <tr>\n",
       "      <th>max</th>\n",
       "      <td>8.000000</td>\n",
       "      <td>6.300000</td>\n",
       "      <td>5.48000</td>\n",
       "      <td>2.000000</td>\n",
       "      <td>1.000000</td>\n",
       "      <td>1.000000</td>\n",
       "      <td>1.000000</td>\n",
       "      <td>1.000000</td>\n",
       "      <td>1.000000</td>\n",
       "      <td>4.000000</td>\n",
       "      <td>1.000000</td>\n",
       "      <td>1.000000</td>\n",
       "      <td>1.000000</td>\n",
       "      <td>1.000000</td>\n",
       "      <td>1.000000</td>\n",
       "      <td>87.000000</td>\n",
       "      <td>1.000000</td>\n",
       "    </tr>\n",
       "  </tbody>\n",
       "</table>\n",
       "</div>"
      ],
      "text/plain": [
       "        Diagnosis         FVC       FEV1  Performance        Pain  \\\n",
       "count  454.000000  454.000000  454.00000   454.000000  454.000000   \n",
       "mean     3.092511    3.287952    2.51685     0.795154    0.059471   \n",
       "std      0.715817    0.872347    0.77189     0.531459    0.236766   \n",
       "min      1.000000    1.440000    0.96000     0.000000    0.000000   \n",
       "25%      3.000000    2.600000    1.96000     0.000000    0.000000   \n",
       "50%      3.000000    3.160000    2.36000     1.000000    0.000000   \n",
       "75%      3.000000    3.840000    2.97750     1.000000    0.000000   \n",
       "max      8.000000    6.300000    5.48000     2.000000    1.000000   \n",
       "\n",
       "       Haemoptysis    Dyspnoea       Cough    Weakness  Tumor_Size  \\\n",
       "count   454.000000  454.000000  454.000000  454.000000  454.000000   \n",
       "mean      0.136564    0.055066    0.696035    0.171806    1.733480   \n",
       "std       0.343765    0.228361    0.460475    0.377628    0.707499   \n",
       "min       0.000000    0.000000    0.000000    0.000000    1.000000   \n",
       "25%       0.000000    0.000000    0.000000    0.000000    1.000000   \n",
       "50%       0.000000    0.000000    1.000000    0.000000    2.000000   \n",
       "75%       0.000000    0.000000    1.000000    0.000000    2.000000   \n",
       "max       1.000000    1.000000    1.000000    1.000000    4.000000   \n",
       "\n",
       "       Diabetes_Mellitus      MI_6mo         PAD     Smoking      Asthma  \\\n",
       "count         454.000000  454.000000  454.000000  454.000000  454.000000   \n",
       "mean            0.074890    0.004405    0.017621    0.828194    0.004405   \n",
       "std             0.263504    0.066299    0.131715    0.377628    0.066299   \n",
       "min             0.000000    0.000000    0.000000    0.000000    0.000000   \n",
       "25%             0.000000    0.000000    0.000000    1.000000    0.000000   \n",
       "50%             0.000000    0.000000    0.000000    1.000000    0.000000   \n",
       "75%             0.000000    0.000000    0.000000    1.000000    0.000000   \n",
       "max             1.000000    1.000000    1.000000    1.000000    1.000000   \n",
       "\n",
       "              Age   Death_1yr  \n",
       "count  454.000000  454.000000  \n",
       "mean    62.777533    0.151982  \n",
       "std      8.449634    0.359400  \n",
       "min     37.000000    0.000000  \n",
       "25%     57.000000    0.000000  \n",
       "50%     62.000000    0.000000  \n",
       "75%     69.000000    0.000000  \n",
       "max     87.000000    1.000000  "
      ]
     },
     "execution_count": 44,
     "metadata": {},
     "output_type": "execute_result"
    }
   ],
   "source": [
    "df.describe()"
   ]
  },
  {
   "cell_type": "code",
   "execution_count": 45,
   "metadata": {
    "colab": {
     "base_uri": "https://localhost:8080/"
    },
    "id": "-W7dRx8x7IuT",
    "outputId": "dbf75a76-8752-4f89-bb70-5b655cf0a4ae"
   },
   "outputs": [
    {
     "data": {
      "text/plain": [
       "0    385\n",
       "1     69\n",
       "Name: Death_1yr, dtype: int64"
      ]
     },
     "execution_count": 45,
     "metadata": {},
     "output_type": "execute_result"
    }
   ],
   "source": [
    "df['Death_1yr'].value_counts()\n",
    "# 0 - Deaths\n",
    "# 1 - Survived"
   ]
  },
  {
   "cell_type": "code",
   "execution_count": 46,
   "metadata": {
    "colab": {
     "base_uri": "https://localhost:8080/",
     "height": 143
    },
    "id": "gZmClr9W7ezT",
    "outputId": "89f3324e-5fc8-4a12-84e2-d87da4795e86"
   },
   "outputs": [
    {
     "data": {
      "text/html": [
       "<div>\n",
       "<style scoped>\n",
       "    .dataframe tbody tr th:only-of-type {\n",
       "        vertical-align: middle;\n",
       "    }\n",
       "\n",
       "    .dataframe tbody tr th {\n",
       "        vertical-align: top;\n",
       "    }\n",
       "\n",
       "    .dataframe thead th {\n",
       "        text-align: right;\n",
       "    }\n",
       "</style>\n",
       "<table border=\"1\" class=\"dataframe\">\n",
       "  <thead>\n",
       "    <tr style=\"text-align: right;\">\n",
       "      <th></th>\n",
       "      <th>Diagnosis</th>\n",
       "      <th>FVC</th>\n",
       "      <th>FEV1</th>\n",
       "      <th>Performance</th>\n",
       "      <th>Pain</th>\n",
       "      <th>Haemoptysis</th>\n",
       "      <th>Dyspnoea</th>\n",
       "      <th>Cough</th>\n",
       "      <th>Weakness</th>\n",
       "      <th>Tumor_Size</th>\n",
       "      <th>Diabetes_Mellitus</th>\n",
       "      <th>MI_6mo</th>\n",
       "      <th>PAD</th>\n",
       "      <th>Smoking</th>\n",
       "      <th>Asthma</th>\n",
       "      <th>Age</th>\n",
       "    </tr>\n",
       "    <tr>\n",
       "      <th>Death_1yr</th>\n",
       "      <th></th>\n",
       "      <th></th>\n",
       "      <th></th>\n",
       "      <th></th>\n",
       "      <th></th>\n",
       "      <th></th>\n",
       "      <th></th>\n",
       "      <th></th>\n",
       "      <th></th>\n",
       "      <th></th>\n",
       "      <th></th>\n",
       "      <th></th>\n",
       "      <th></th>\n",
       "      <th></th>\n",
       "      <th></th>\n",
       "      <th></th>\n",
       "    </tr>\n",
       "  </thead>\n",
       "  <tbody>\n",
       "    <tr>\n",
       "      <th>0</th>\n",
       "      <td>3.070130</td>\n",
       "      <td>3.304597</td>\n",
       "      <td>2.540805</td>\n",
       "      <td>0.774026</td>\n",
       "      <td>0.051948</td>\n",
       "      <td>0.124675</td>\n",
       "      <td>0.044156</td>\n",
       "      <td>0.677922</td>\n",
       "      <td>0.158442</td>\n",
       "      <td>1.683117</td>\n",
       "      <td>0.062338</td>\n",
       "      <td>0.005195</td>\n",
       "      <td>0.015584</td>\n",
       "      <td>0.815584</td>\n",
       "      <td>0.005195</td>\n",
       "      <td>62.677922</td>\n",
       "    </tr>\n",
       "    <tr>\n",
       "      <th>1</th>\n",
       "      <td>3.217391</td>\n",
       "      <td>3.195072</td>\n",
       "      <td>2.383188</td>\n",
       "      <td>0.913043</td>\n",
       "      <td>0.101449</td>\n",
       "      <td>0.202899</td>\n",
       "      <td>0.115942</td>\n",
       "      <td>0.797101</td>\n",
       "      <td>0.246377</td>\n",
       "      <td>2.014493</td>\n",
       "      <td>0.144928</td>\n",
       "      <td>0.000000</td>\n",
       "      <td>0.028986</td>\n",
       "      <td>0.898551</td>\n",
       "      <td>0.000000</td>\n",
       "      <td>63.333333</td>\n",
       "    </tr>\n",
       "  </tbody>\n",
       "</table>\n",
       "</div>"
      ],
      "text/plain": [
       "           Diagnosis       FVC      FEV1  Performance      Pain  Haemoptysis  \\\n",
       "Death_1yr                                                                      \n",
       "0           3.070130  3.304597  2.540805     0.774026  0.051948     0.124675   \n",
       "1           3.217391  3.195072  2.383188     0.913043  0.101449     0.202899   \n",
       "\n",
       "           Dyspnoea     Cough  Weakness  Tumor_Size  Diabetes_Mellitus  \\\n",
       "Death_1yr                                                                \n",
       "0          0.044156  0.677922  0.158442    1.683117           0.062338   \n",
       "1          0.115942  0.797101  0.246377    2.014493           0.144928   \n",
       "\n",
       "             MI_6mo       PAD   Smoking    Asthma        Age  \n",
       "Death_1yr                                                     \n",
       "0          0.005195  0.015584  0.815584  0.005195  62.677922  \n",
       "1          0.000000  0.028986  0.898551  0.000000  63.333333  "
      ]
     },
     "execution_count": 46,
     "metadata": {},
     "output_type": "execute_result"
    }
   ],
   "source": [
    "df.groupby('Death_1yr').mean()"
   ]
  },
  {
   "cell_type": "code",
   "execution_count": 47,
   "metadata": {},
   "outputs": [
    {
     "data": {
      "text/html": [
       "<div>\n",
       "<style scoped>\n",
       "    .dataframe tbody tr th:only-of-type {\n",
       "        vertical-align: middle;\n",
       "    }\n",
       "\n",
       "    .dataframe tbody tr th {\n",
       "        vertical-align: top;\n",
       "    }\n",
       "\n",
       "    .dataframe thead th {\n",
       "        text-align: right;\n",
       "    }\n",
       "</style>\n",
       "<table border=\"1\" class=\"dataframe\">\n",
       "  <thead>\n",
       "    <tr style=\"text-align: right;\">\n",
       "      <th></th>\n",
       "      <th></th>\n",
       "      <th>Diagnosis</th>\n",
       "      <th>FVC</th>\n",
       "      <th>FEV1</th>\n",
       "      <th>Performance</th>\n",
       "      <th>Pain</th>\n",
       "      <th>Haemoptysis</th>\n",
       "      <th>Dyspnoea</th>\n",
       "      <th>Cough</th>\n",
       "      <th>Weakness</th>\n",
       "      <th>Tumor_Size</th>\n",
       "      <th>Diabetes_Mellitus</th>\n",
       "      <th>MI_6mo</th>\n",
       "      <th>PAD</th>\n",
       "      <th>Smoking</th>\n",
       "      <th>Asthma</th>\n",
       "    </tr>\n",
       "    <tr>\n",
       "      <th>Age</th>\n",
       "      <th>Death_1yr</th>\n",
       "      <th></th>\n",
       "      <th></th>\n",
       "      <th></th>\n",
       "      <th></th>\n",
       "      <th></th>\n",
       "      <th></th>\n",
       "      <th></th>\n",
       "      <th></th>\n",
       "      <th></th>\n",
       "      <th></th>\n",
       "      <th></th>\n",
       "      <th></th>\n",
       "      <th></th>\n",
       "      <th></th>\n",
       "      <th></th>\n",
       "    </tr>\n",
       "  </thead>\n",
       "  <tbody>\n",
       "    <tr>\n",
       "      <th>37</th>\n",
       "      <th>0</th>\n",
       "      <td>3.0</td>\n",
       "      <td>3.72</td>\n",
       "      <td>2.88</td>\n",
       "      <td>1.0</td>\n",
       "      <td>0.0</td>\n",
       "      <td>0.0</td>\n",
       "      <td>1.0</td>\n",
       "      <td>1.0</td>\n",
       "      <td>0.0</td>\n",
       "      <td>1.0</td>\n",
       "      <td>0.0</td>\n",
       "      <td>0.0</td>\n",
       "      <td>0.0</td>\n",
       "      <td>0.0</td>\n",
       "      <td>0.0</td>\n",
       "    </tr>\n",
       "    <tr>\n",
       "      <th rowspan=\"2\" valign=\"top\">39</th>\n",
       "      <th>0</th>\n",
       "      <td>3.0</td>\n",
       "      <td>2.36</td>\n",
       "      <td>2.00</td>\n",
       "      <td>0.0</td>\n",
       "      <td>0.0</td>\n",
       "      <td>0.0</td>\n",
       "      <td>0.0</td>\n",
       "      <td>0.0</td>\n",
       "      <td>0.0</td>\n",
       "      <td>1.0</td>\n",
       "      <td>0.0</td>\n",
       "      <td>0.0</td>\n",
       "      <td>0.0</td>\n",
       "      <td>0.0</td>\n",
       "      <td>0.0</td>\n",
       "    </tr>\n",
       "    <tr>\n",
       "      <th>1</th>\n",
       "      <td>2.0</td>\n",
       "      <td>4.20</td>\n",
       "      <td>3.60</td>\n",
       "      <td>1.0</td>\n",
       "      <td>0.0</td>\n",
       "      <td>0.0</td>\n",
       "      <td>0.0</td>\n",
       "      <td>0.0</td>\n",
       "      <td>1.0</td>\n",
       "      <td>1.0</td>\n",
       "      <td>0.0</td>\n",
       "      <td>0.0</td>\n",
       "      <td>0.0</td>\n",
       "      <td>1.0</td>\n",
       "      <td>0.0</td>\n",
       "    </tr>\n",
       "    <tr>\n",
       "      <th>40</th>\n",
       "      <th>0</th>\n",
       "      <td>3.0</td>\n",
       "      <td>4.08</td>\n",
       "      <td>3.20</td>\n",
       "      <td>1.0</td>\n",
       "      <td>0.0</td>\n",
       "      <td>0.0</td>\n",
       "      <td>0.0</td>\n",
       "      <td>1.0</td>\n",
       "      <td>0.0</td>\n",
       "      <td>2.0</td>\n",
       "      <td>0.0</td>\n",
       "      <td>0.0</td>\n",
       "      <td>0.0</td>\n",
       "      <td>1.0</td>\n",
       "      <td>0.0</td>\n",
       "    </tr>\n",
       "    <tr>\n",
       "      <th>41</th>\n",
       "      <th>1</th>\n",
       "      <td>3.0</td>\n",
       "      <td>3.40</td>\n",
       "      <td>2.80</td>\n",
       "      <td>1.0</td>\n",
       "      <td>0.0</td>\n",
       "      <td>0.0</td>\n",
       "      <td>0.0</td>\n",
       "      <td>1.0</td>\n",
       "      <td>0.0</td>\n",
       "      <td>4.0</td>\n",
       "      <td>0.0</td>\n",
       "      <td>0.0</td>\n",
       "      <td>0.0</td>\n",
       "      <td>1.0</td>\n",
       "      <td>0.0</td>\n",
       "    </tr>\n",
       "  </tbody>\n",
       "</table>\n",
       "</div>"
      ],
      "text/plain": [
       "               Diagnosis   FVC  FEV1  Performance  Pain  Haemoptysis  \\\n",
       "Age Death_1yr                                                          \n",
       "37  0                3.0  3.72  2.88          1.0   0.0          0.0   \n",
       "39  0                3.0  2.36  2.00          0.0   0.0          0.0   \n",
       "    1                2.0  4.20  3.60          1.0   0.0          0.0   \n",
       "40  0                3.0  4.08  3.20          1.0   0.0          0.0   \n",
       "41  1                3.0  3.40  2.80          1.0   0.0          0.0   \n",
       "\n",
       "               Dyspnoea  Cough  Weakness  Tumor_Size  Diabetes_Mellitus  \\\n",
       "Age Death_1yr                                                             \n",
       "37  0               1.0    1.0       0.0         1.0                0.0   \n",
       "39  0               0.0    0.0       0.0         1.0                0.0   \n",
       "    1               0.0    0.0       1.0         1.0                0.0   \n",
       "40  0               0.0    1.0       0.0         2.0                0.0   \n",
       "41  1               0.0    1.0       0.0         4.0                0.0   \n",
       "\n",
       "               MI_6mo  PAD  Smoking  Asthma  \n",
       "Age Death_1yr                                \n",
       "37  0             0.0  0.0      0.0     0.0  \n",
       "39  0             0.0  0.0      0.0     0.0  \n",
       "    1             0.0  0.0      1.0     0.0  \n",
       "40  0             0.0  0.0      1.0     0.0  \n",
       "41  1             0.0  0.0      1.0     0.0  "
      ]
     },
     "execution_count": 47,
     "metadata": {},
     "output_type": "execute_result"
    }
   ],
   "source": [
    "DF = df.groupby(['Age', 'Death_1yr']).mean()\n",
    "DF.head()"
   ]
  },
  {
   "cell_type": "code",
   "execution_count": 48,
   "metadata": {
    "colab": {
     "base_uri": "https://localhost:8080/",
     "height": 354
    },
    "id": "SMDFPFdtzuy1",
    "outputId": "6722d13e-dd8d-4e82-9157-aeadc6ad7a33"
   },
   "outputs": [
    {
     "name": "stderr",
     "output_type": "stream",
     "text": [
      "C:\\Users\\Karth\\anaconda3\\lib\\site-packages\\seaborn\\_decorators.py:36: FutureWarning: Pass the following variable as a keyword arg: x. From version 0.12, the only valid positional argument will be `data`, and passing other arguments without an explicit keyword will result in an error or misinterpretation.\n",
      "  warnings.warn(\n"
     ]
    },
    {
     "data": {
      "text/plain": [
       "<AxesSubplot:xlabel='Death_1yr', ylabel='count'>"
      ]
     },
     "execution_count": 48,
     "metadata": {},
     "output_type": "execute_result"
    },
    {
     "data": {
      "image/png": "[encoded data removed]",
      "text/plain": [
       "<Figure size 432x288 with 1 Axes>"
      ]
     },
     "metadata": {
      "needs_background": "light"
     },
     "output_type": "display_data"
    }
   ],
   "source": [
    "sns.countplot(df['Death_1yr'])"
   ]
  },
  {
   "cell_type": "code",
   "execution_count": 49,
   "metadata": {},
   "outputs": [],
   "source": [
    "df = df.drop('Diagnosis', axis = 1)"
   ]
  },
  {
   "cell_type": "code",
   "execution_count": 50,
   "metadata": {
    "id": "mW6NA_qZ0SVA"
   },
   "outputs": [],
   "source": [
    "# df.plot(x = 'Age', y = 'Death_1yr', kind='scatter')\n",
    "# plt.show()"
   ]
  },
  {
   "cell_type": "markdown",
   "metadata": {
    "id": "No_emplr7uBD"
   },
   "source": [
    "**Data Pre-processing**"
   ]
  },
  {
   "cell_type": "code",
   "execution_count": 51,
   "metadata": {
    "id": "6Gs2JLzq7rd-"
   },
   "outputs": [],
   "source": [
    "X = df.drop(['Death_1yr'], axis = 1)\n",
    "Y = df['Death_1yr']"
   ]
  },
  {
   "cell_type": "code",
   "execution_count": 52,
   "metadata": {
    "colab": {
     "base_uri": "https://localhost:8080/",
     "height": 206
    },
    "id": "xDacM9LEACMY",
    "outputId": "aafc7d6e-95a0-4110-e4ee-5d1707aef35b"
   },
   "outputs": [
    {
     "data": {
      "text/html": [
       "<div>\n",
       "<style scoped>\n",
       "    .dataframe tbody tr th:only-of-type {\n",
       "        vertical-align: middle;\n",
       "    }\n",
       "\n",
       "    .dataframe tbody tr th {\n",
       "        vertical-align: top;\n",
       "    }\n",
       "\n",
       "    .dataframe thead th {\n",
       "        text-align: right;\n",
       "    }\n",
       "</style>\n",
       "<table border=\"1\" class=\"dataframe\">\n",
       "  <thead>\n",
       "    <tr style=\"text-align: right;\">\n",
       "      <th></th>\n",
       "      <th>FVC</th>\n",
       "      <th>FEV1</th>\n",
       "      <th>Performance</th>\n",
       "      <th>Pain</th>\n",
       "      <th>Haemoptysis</th>\n",
       "      <th>Dyspnoea</th>\n",
       "      <th>Cough</th>\n",
       "      <th>Weakness</th>\n",
       "      <th>Tumor_Size</th>\n",
       "      <th>Diabetes_Mellitus</th>\n",
       "      <th>MI_6mo</th>\n",
       "      <th>PAD</th>\n",
       "      <th>Smoking</th>\n",
       "      <th>Asthma</th>\n",
       "      <th>Age</th>\n",
       "    </tr>\n",
       "  </thead>\n",
       "  <tbody>\n",
       "    <tr>\n",
       "      <th>0</th>\n",
       "      <td>2.88</td>\n",
       "      <td>2.16</td>\n",
       "      <td>1</td>\n",
       "      <td>0</td>\n",
       "      <td>0</td>\n",
       "      <td>0</td>\n",
       "      <td>1</td>\n",
       "      <td>1</td>\n",
       "      <td>4</td>\n",
       "      <td>0</td>\n",
       "      <td>0</td>\n",
       "      <td>0</td>\n",
       "      <td>1</td>\n",
       "      <td>0</td>\n",
       "      <td>60</td>\n",
       "    </tr>\n",
       "    <tr>\n",
       "      <th>1</th>\n",
       "      <td>3.40</td>\n",
       "      <td>1.88</td>\n",
       "      <td>0</td>\n",
       "      <td>0</td>\n",
       "      <td>0</td>\n",
       "      <td>0</td>\n",
       "      <td>0</td>\n",
       "      <td>0</td>\n",
       "      <td>2</td>\n",
       "      <td>0</td>\n",
       "      <td>0</td>\n",
       "      <td>0</td>\n",
       "      <td>1</td>\n",
       "      <td>0</td>\n",
       "      <td>51</td>\n",
       "    </tr>\n",
       "    <tr>\n",
       "      <th>2</th>\n",
       "      <td>2.76</td>\n",
       "      <td>2.08</td>\n",
       "      <td>1</td>\n",
       "      <td>0</td>\n",
       "      <td>0</td>\n",
       "      <td>0</td>\n",
       "      <td>1</td>\n",
       "      <td>0</td>\n",
       "      <td>1</td>\n",
       "      <td>0</td>\n",
       "      <td>0</td>\n",
       "      <td>0</td>\n",
       "      <td>1</td>\n",
       "      <td>0</td>\n",
       "      <td>59</td>\n",
       "    </tr>\n",
       "    <tr>\n",
       "      <th>3</th>\n",
       "      <td>3.68</td>\n",
       "      <td>3.04</td>\n",
       "      <td>0</td>\n",
       "      <td>0</td>\n",
       "      <td>0</td>\n",
       "      <td>0</td>\n",
       "      <td>0</td>\n",
       "      <td>0</td>\n",
       "      <td>1</td>\n",
       "      <td>0</td>\n",
       "      <td>0</td>\n",
       "      <td>0</td>\n",
       "      <td>0</td>\n",
       "      <td>0</td>\n",
       "      <td>54</td>\n",
       "    </tr>\n",
       "    <tr>\n",
       "      <th>4</th>\n",
       "      <td>2.44</td>\n",
       "      <td>0.96</td>\n",
       "      <td>2</td>\n",
       "      <td>0</td>\n",
       "      <td>1</td>\n",
       "      <td>0</td>\n",
       "      <td>1</td>\n",
       "      <td>1</td>\n",
       "      <td>1</td>\n",
       "      <td>0</td>\n",
       "      <td>0</td>\n",
       "      <td>0</td>\n",
       "      <td>1</td>\n",
       "      <td>0</td>\n",
       "      <td>73</td>\n",
       "    </tr>\n",
       "  </tbody>\n",
       "</table>\n",
       "</div>"
      ],
      "text/plain": [
       "    FVC  FEV1  Performance  Pain  Haemoptysis  Dyspnoea  Cough  Weakness  \\\n",
       "0  2.88  2.16            1     0            0         0      1         1   \n",
       "1  3.40  1.88            0     0            0         0      0         0   \n",
       "2  2.76  2.08            1     0            0         0      1         0   \n",
       "3  3.68  3.04            0     0            0         0      0         0   \n",
       "4  2.44  0.96            2     0            1         0      1         1   \n",
       "\n",
       "   Tumor_Size  Diabetes_Mellitus  MI_6mo  PAD  Smoking  Asthma  Age  \n",
       "0           4                  0       0    0        1       0   60  \n",
       "1           2                  0       0    0        1       0   51  \n",
       "2           1                  0       0    0        1       0   59  \n",
       "3           1                  0       0    0        0       0   54  \n",
       "4           1                  0       0    0        1       0   73  "
      ]
     },
     "execution_count": 52,
     "metadata": {},
     "output_type": "execute_result"
    }
   ],
   "source": [
    "X.head()"
   ]
  },
  {
   "cell_type": "code",
   "execution_count": 53,
   "metadata": {
    "colab": {
     "base_uri": "https://localhost:8080/"
    },
    "id": "IT_mdaPEAEfs",
    "outputId": "48e07b29-21b5-4bec-9c4b-a217e18a5045"
   },
   "outputs": [
    {
     "data": {
      "text/plain": [
       "0    0\n",
       "1    0\n",
       "2    0\n",
       "3    0\n",
       "4    1\n",
       "Name: Death_1yr, dtype: int64"
      ]
     },
     "execution_count": 53,
     "metadata": {},
     "output_type": "execute_result"
    }
   ],
   "source": [
    "Y.head()"
   ]
  },
  {
   "cell_type": "markdown",
   "metadata": {
    "id": "rLWO7ZQhALBP"
   },
   "source": [
    "**Test and Train Data Split**"
   ]
  },
  {
   "cell_type": "code",
   "execution_count": 54,
   "metadata": {
    "colab": {
     "base_uri": "https://localhost:8080/"
    },
    "id": "hvk0cJezAIeI",
    "outputId": "06c126c2-e328-4f00-8321-6e7634ca5e77"
   },
   "outputs": [
    {
     "name": "stdout",
     "output_type": "stream",
     "text": [
      "(454, 15) (137, 15) (317, 15)\n"
     ]
    }
   ],
   "source": [
    "X_tr, X_tst, Y_tr, Y_tst = train_test_split(X, Y, test_size = 0.3, random_state = 27)\n",
    "print(X.shape, X_tst.shape, X_tr.shape)"
   ]
  },
  {
   "cell_type": "markdown",
   "metadata": {
    "id": "6s6GUn0fAqTE"
   },
   "source": [
    "**Standardization**"
   ]
  },
  {
   "cell_type": "code",
   "execution_count": 55,
   "metadata": {
    "colab": {
     "base_uri": "https://localhost:8080/"
    },
    "id": "KLp8TXFHApRI",
    "outputId": "6ce93b5f-33d7-45e8-eb9a-218cde423959"
   },
   "outputs": [
    {
     "data": {
      "text/plain": [
       "StandardScaler()"
      ]
     },
     "execution_count": 55,
     "metadata": {},
     "output_type": "execute_result"
    }
   ],
   "source": [
    "scaler = StandardScaler()\n",
    "scaler.fit(X_tr)"
   ]
  },
  {
   "cell_type": "code",
   "execution_count": 56,
   "metadata": {
    "colab": {
     "base_uri": "https://localhost:8080/",
     "height": 206
    },
    "id": "R5gbfSS15R7I",
    "outputId": "6d41504e-02e7-455c-9c2f-673d0b1d8aed"
   },
   "outputs": [
    {
     "data": {
      "text/html": [
       "<div>\n",
       "<style scoped>\n",
       "    .dataframe tbody tr th:only-of-type {\n",
       "        vertical-align: middle;\n",
       "    }\n",
       "\n",
       "    .dataframe tbody tr th {\n",
       "        vertical-align: top;\n",
       "    }\n",
       "\n",
       "    .dataframe thead th {\n",
       "        text-align: right;\n",
       "    }\n",
       "</style>\n",
       "<table border=\"1\" class=\"dataframe\">\n",
       "  <thead>\n",
       "    <tr style=\"text-align: right;\">\n",
       "      <th></th>\n",
       "      <th>FVC</th>\n",
       "      <th>FEV1</th>\n",
       "      <th>Performance</th>\n",
       "      <th>Pain</th>\n",
       "      <th>Haemoptysis</th>\n",
       "      <th>Dyspnoea</th>\n",
       "      <th>Cough</th>\n",
       "      <th>Weakness</th>\n",
       "      <th>Tumor_Size</th>\n",
       "      <th>Diabetes_Mellitus</th>\n",
       "      <th>MI_6mo</th>\n",
       "      <th>PAD</th>\n",
       "      <th>Smoking</th>\n",
       "      <th>Asthma</th>\n",
       "      <th>Age</th>\n",
       "    </tr>\n",
       "  </thead>\n",
       "  <tbody>\n",
       "    <tr>\n",
       "      <th>152</th>\n",
       "      <td>2.76</td>\n",
       "      <td>1.60</td>\n",
       "      <td>1</td>\n",
       "      <td>0</td>\n",
       "      <td>0</td>\n",
       "      <td>0</td>\n",
       "      <td>1</td>\n",
       "      <td>1</td>\n",
       "      <td>2</td>\n",
       "      <td>0</td>\n",
       "      <td>1</td>\n",
       "      <td>0</td>\n",
       "      <td>1</td>\n",
       "      <td>0</td>\n",
       "      <td>60</td>\n",
       "    </tr>\n",
       "    <tr>\n",
       "      <th>273</th>\n",
       "      <td>2.00</td>\n",
       "      <td>1.36</td>\n",
       "      <td>1</td>\n",
       "      <td>0</td>\n",
       "      <td>0</td>\n",
       "      <td>0</td>\n",
       "      <td>1</td>\n",
       "      <td>0</td>\n",
       "      <td>1</td>\n",
       "      <td>0</td>\n",
       "      <td>0</td>\n",
       "      <td>0</td>\n",
       "      <td>1</td>\n",
       "      <td>0</td>\n",
       "      <td>64</td>\n",
       "    </tr>\n",
       "    <tr>\n",
       "      <th>162</th>\n",
       "      <td>2.57</td>\n",
       "      <td>1.72</td>\n",
       "      <td>1</td>\n",
       "      <td>0</td>\n",
       "      <td>0</td>\n",
       "      <td>0</td>\n",
       "      <td>1</td>\n",
       "      <td>1</td>\n",
       "      <td>1</td>\n",
       "      <td>0</td>\n",
       "      <td>0</td>\n",
       "      <td>0</td>\n",
       "      <td>1</td>\n",
       "      <td>0</td>\n",
       "      <td>81</td>\n",
       "    </tr>\n",
       "    <tr>\n",
       "      <th>447</th>\n",
       "      <td>3.44</td>\n",
       "      <td>2.16</td>\n",
       "      <td>1</td>\n",
       "      <td>0</td>\n",
       "      <td>0</td>\n",
       "      <td>0</td>\n",
       "      <td>1</td>\n",
       "      <td>1</td>\n",
       "      <td>2</td>\n",
       "      <td>1</td>\n",
       "      <td>0</td>\n",
       "      <td>0</td>\n",
       "      <td>1</td>\n",
       "      <td>0</td>\n",
       "      <td>57</td>\n",
       "    </tr>\n",
       "    <tr>\n",
       "      <th>319</th>\n",
       "      <td>1.96</td>\n",
       "      <td>1.48</td>\n",
       "      <td>1</td>\n",
       "      <td>0</td>\n",
       "      <td>0</td>\n",
       "      <td>0</td>\n",
       "      <td>1</td>\n",
       "      <td>0</td>\n",
       "      <td>2</td>\n",
       "      <td>0</td>\n",
       "      <td>0</td>\n",
       "      <td>0</td>\n",
       "      <td>1</td>\n",
       "      <td>0</td>\n",
       "      <td>59</td>\n",
       "    </tr>\n",
       "  </tbody>\n",
       "</table>\n",
       "</div>"
      ],
      "text/plain": [
       "      FVC  FEV1  Performance  Pain  Haemoptysis  Dyspnoea  Cough  Weakness  \\\n",
       "152  2.76  1.60            1     0            0         0      1         1   \n",
       "273  2.00  1.36            1     0            0         0      1         0   \n",
       "162  2.57  1.72            1     0            0         0      1         1   \n",
       "447  3.44  2.16            1     0            0         0      1         1   \n",
       "319  1.96  1.48            1     0            0         0      1         0   \n",
       "\n",
       "     Tumor_Size  Diabetes_Mellitus  MI_6mo  PAD  Smoking  Asthma  Age  \n",
       "152           2                  0       1    0        1       0   60  \n",
       "273           1                  0       0    0        1       0   64  \n",
       "162           1                  0       0    0        1       0   81  \n",
       "447           2                  1       0    0        1       0   57  \n",
       "319           2                  0       0    0        1       0   59  "
      ]
     },
     "execution_count": 56,
     "metadata": {},
     "output_type": "execute_result"
    }
   ],
   "source": [
    "X_tr.head()"
   ]
  },
  {
   "cell_type": "code",
   "execution_count": 57,
   "metadata": {
    "id": "S5LTGgwnAz8E"
   },
   "outputs": [],
   "source": [
    "X_tr = scaler.transform(X_tr)\n",
    "X_tst = scaler.transform(X_tst)"
   ]
  },
  {
   "cell_type": "code",
   "execution_count": 58,
   "metadata": {
    "colab": {
     "base_uri": "https://localhost:8080/"
    },
    "id": "8XzIAJSjA_6E",
    "outputId": "fdb8fa77-08b3-496b-adbe-454fac4d32a0"
   },
   "outputs": [
    {
     "data": {
      "text/plain": [
       "array([[-0.64242036, -1.20412045,  0.41817856, ...,  0.47820725,\n",
       "        -0.07968191, -0.32889456],\n",
       "       [-1.50116703, -1.50644202,  0.41817856, ...,  0.47820725,\n",
       "        -0.07968191,  0.14021489],\n",
       "       [-0.85710703, -1.05295966,  0.41817856, ...,  0.47820725,\n",
       "        -0.07968191,  2.13393009],\n",
       "       ...,\n",
       "       [ 0.75869263,  0.66019593, -1.53127149, ...,  0.47820725,\n",
       "        -0.07968191,  0.14021489],\n",
       "       [ 1.79822808,  1.4663868 , -1.53127149, ...,  0.47820725,\n",
       "        -0.07968191, -0.32889456],\n",
       "       [-0.50682878, -0.09560801, -1.53127149, ...,  0.47820725,\n",
       "        -0.07968191,  0.96115644]])"
      ]
     },
     "execution_count": 58,
     "metadata": {},
     "output_type": "execute_result"
    }
   ],
   "source": [
    "X_tr"
   ]
  },
  {
   "cell_type": "markdown",
   "metadata": {
    "id": "xqVYSwOUPLS9"
   },
   "source": [
    "**SVM Model**"
   ]
  },
  {
   "cell_type": "code",
   "execution_count": 59,
   "metadata": {
    "colab": {
     "base_uri": "https://localhost:8080/"
    },
    "id": "nY4u6Uszam44",
    "outputId": "f1f8c367-0338-480c-ef85-6e368ad83b41"
   },
   "outputs": [
    {
     "data": {
      "text/plain": [
       "SVC(kernel='linear')"
      ]
     },
     "execution_count": 59,
     "metadata": {},
     "output_type": "execute_result"
    }
   ],
   "source": [
    "svm = svm.SVC(kernel = 'linear')\n",
    "svm.fit(X_tr, Y_tr)"
   ]
  },
  {
   "cell_type": "code",
   "execution_count": 60,
   "metadata": {
    "colab": {
     "base_uri": "https://localhost:8080/"
    },
    "id": "PPnZaChlv-n5",
    "outputId": "3f123850-04eb-4f24-fb15-82cbeeb7f223"
   },
   "outputs": [
    {
     "name": "stdout",
     "output_type": "stream",
     "text": [
      "Accuracy of SVM Train Data: 0.8580441640378549\n",
      "Accuracy of SVM Test Data: 0.8248175182481752\n"
     ]
    }
   ],
   "source": [
    "svm_tr_prediction = svm.predict(X_tr)\n",
    "print(f'Accuracy of SVM Train Data: {accuracy_score(Y_tr, svm_tr_prediction)}')\n",
    "\n",
    "svm_tst_prediction = svm.predict(X_tst)\n",
    "print(f'Accuracy of SVM Test Data: {accuracy_score(Y_tst, svm_tst_prediction)}')"
   ]
  },
  {
   "cell_type": "markdown",
   "metadata": {
    "id": "7K2sVYNFyGKR"
   },
   "source": [
    "**Decision Tree**"
   ]
  },
  {
   "cell_type": "code",
   "execution_count": 61,
   "metadata": {
    "colab": {
     "base_uri": "https://localhost:8080/"
    },
    "id": "Z9m3ufk2yFWi",
    "outputId": "e97228df-741e-4ae6-90a4-40293ccf1f13"
   },
   "outputs": [
    {
     "data": {
      "text/plain": [
       "DecisionTreeClassifier()"
      ]
     },
     "execution_count": 61,
     "metadata": {},
     "output_type": "execute_result"
    }
   ],
   "source": [
    "dt = DecisionTreeClassifier(criterion = \"gini\",splitter = \"best\",max_depth = None)\n",
    "dt.fit(X_tr, Y_tr)"
   ]
  },
  {
   "cell_type": "code",
   "execution_count": 62,
   "metadata": {
    "colab": {
     "base_uri": "https://localhost:8080/"
    },
    "id": "IyYiTE5FyVlN",
    "outputId": "63e3a303-5712-4c8f-b9b8-bd609b1ad79f"
   },
   "outputs": [
    {
     "name": "stdout",
     "output_type": "stream",
     "text": [
      "Accuracy of Decision Tree Train Data: 1.0\n",
      "Accuracy of Decision Tree Test Data: 0.781021897810219\n"
     ]
    }
   ],
   "source": [
    "dt_tr_prediction = dt.predict(X_tr)\n",
    "print(f'Accuracy of Decision Tree Train Data: {accuracy_score(Y_tr, dt_tr_prediction)}')\n",
    "\n",
    "dt_tst_prediction = dt.predict(X_tst)\n",
    "print(f'Accuracy of Decision Tree Test Data: {accuracy_score(Y_tst, dt_tst_prediction)}')"
   ]
  },
  {
   "cell_type": "markdown",
   "metadata": {
    "id": "S-zhjlML1uzR"
   },
   "source": [
    "**Random Forest**"
   ]
  },
  {
   "cell_type": "code",
   "execution_count": 63,
   "metadata": {
    "colab": {
     "base_uri": "https://localhost:8080/"
    },
    "id": "i0OWJzM-1yUg",
    "outputId": "fad5ebc9-21d8-4a02-8618-b7181560aef4"
   },
   "outputs": [
    {
     "data": {
      "text/plain": [
       "RandomForestClassifier()"
      ]
     },
     "execution_count": 63,
     "metadata": {},
     "output_type": "execute_result"
    }
   ],
   "source": [
    "rf = RandomForestClassifier(max_depth = None)\n",
    "rf.fit(X_tr, Y_tr)"
   ]
  },
  {
   "cell_type": "code",
   "execution_count": 64,
   "metadata": {
    "colab": {
     "base_uri": "https://localhost:8080/"
    },
    "id": "zBqIb0Id2Aff",
    "outputId": "51862a45-5ca0-44f4-81aa-2fbd69b38009"
   },
   "outputs": [
    {
     "name": "stdout",
     "output_type": "stream",
     "text": [
      "Accuracy of Random Forest Train Data: 1.0\n",
      "Accuracy of Random Forest Test Data: 0.8175182481751825\n"
     ]
    }
   ],
   "source": [
    "rf_tr_prediction = rf.predict(X_tr)\n",
    "print(f'Accuracy of Random Forest Train Data: {accuracy_score(Y_tr, rf_tr_prediction)}')\n",
    "\n",
    "rf_tst_prediction = rf.predict(X_tst)\n",
    "print(f'Accuracy of Random Forest Test Data: {accuracy_score(Y_tst, rf_tst_prediction)}')"
   ]
  },
  {
   "cell_type": "code",
   "execution_count": 67,
   "metadata": {},
   "outputs": [
    {
     "name": "stdout",
     "output_type": "stream",
     "text": [
      "1\n",
      "1\n",
      "0\n"
     ]
    },
    {
     "name": "stderr",
     "output_type": "stream",
     "text": [
      "C:\\Users\\Karth\\anaconda3\\lib\\site-packages\\sklearn\\base.py:450: UserWarning: X does not have valid feature names, but StandardScaler was fitted with feature names\n",
      "  warnings.warn(\n"
     ]
    }
   ],
   "source": [
    "inputs = (3.88,2.84,1,0,1,0,1,0,1,0,0,0,1,0,66)\n",
    "inputs_as_array = np.array(inputs)\n",
    "inputs_reshaped = inputs_as_array.reshape(1, -1)\n",
    "inputs_std = scaler.transform(inputs_reshaped)\n",
    "print(rf.predict(inputs_std)[0])\n",
    "print(dt.predict(inputs_std)[0])\n",
    "print(svm.predict(inputs_std)[0])"
   ]
  },
  {
   "cell_type": "code",
   "execution_count": null,
   "metadata": {
    "colab": {
     "base_uri": "https://localhost:8080/"
    },
    "id": "1_dSBignBaxn",
    "outputId": "84b56504-fab2-4f86-a146-39309fce3187"
   },
   "outputs": [],
   "source": [
    "final_tr_pred = [mode([i, j, k])[0][0] for i, j, k in zip(svm.predict(X_tr), dt.predict(X_tr), rf.predict(X_tr))]\n",
    "final_tst_pred = [mode([i, j, k])[0][0] for i, j, k in zip(svm.predict(X_tst), dt.predict(X_tst), rf.predict(X_tst))]\n",
    "print(f'Accuracy of the Train Data: {accuracy_score(Y_tr, final_tr_pred)*100}')\n",
    "print(f'Accuracy of the Test Data: {accuracy_score(Y_tst, final_tst_pred)*100}')"
   ]
  },
  {
   "cell_type": "markdown",
   "metadata": {
    "id": "uMeFqDkMyHTW"
   },
   "source": [
    "**Confusion Matrix**"
   ]
  },
  {
   "cell_type": "code",
   "execution_count": null,
   "metadata": {
    "colab": {
     "base_uri": "https://localhost:8080/",
     "height": 499
    },
    "id": "g7Cdrksc28B0",
    "outputId": "a1cb10c7-ba55-474d-8857-ce44f18dc4f6"
   },
   "outputs": [],
   "source": [
    "cf_matrix = confusion_matrix(Y_tst, final_tst_pred)\n",
    "plt.figure(figsize=(12,8))\n",
    "sns.heatmap(cf_matrix, annot=True)\n",
    "plt.title(\"Confusion Matrix for Combined Model on Test Data\")\n",
    "plt.show()"
   ]
  },
  {
   "cell_type": "markdown",
   "metadata": {
    "id": "v868lDpz3iRU"
   },
   "source": [
    "**Classification Report**"
   ]
  },
  {
   "cell_type": "code",
   "execution_count": null,
   "metadata": {
    "colab": {
     "base_uri": "https://localhost:8080/"
    },
    "id": "QTmkmcGD3hHn",
    "outputId": "8e46166b-7978-47bd-fb30-98d0e9be8bda"
   },
   "outputs": [],
   "source": [
    "print(classification_report(Y_tst, final_tst_pred))"
   ]
  },
  {
   "cell_type": "code",
   "execution_count": null,
   "metadata": {},
   "outputs": [],
   "source": [
    "file1 = 'SVM_Model.sav'\n",
    "pickle.dump(svm, open(file1, 'wb'))\n",
    "file2 = 'DT_Model.sav'\n",
    "pickle.dump(dt, open(file2, 'wb'))\n",
    "file3 = 'RF_Model.sav'\n",
    "pickle.dump(dt, open(file3, 'wb'))"
   ]
  }
 ],
 "metadata": {
  "colab": {
   "collapsed_sections": [],
   "provenance": []
  },
  "kernelspec": {
   "display_name": "Python 3 (ipykernel)",
   "language": "python",
   "name": "python3"
  },
  "language_info": {
   "codemirror_mode": {
    "name": "ipython",
    "version": 3
   },
   "file_extension": ".py",
   "mimetype": "text/x-python",
   "name": "python",
   "nbconvert_exporter": "python",
   "pygments_lexer": "ipython3",
   "version": "3.9.12"
  }
 },
 "nbformat": 4,
 "nbformat_minor": 1
}
